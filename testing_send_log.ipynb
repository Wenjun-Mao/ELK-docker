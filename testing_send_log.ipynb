{
 "cells": [
  {
   "cell_type": "code",
   "execution_count": 1,
   "metadata": {},
   "outputs": [
    {
     "name": "stdout",
     "output_type": "stream",
     "text": [
      "[<AsynchronousLogstashHandler (NOTSET)>]\n"
     ]
    }
   ],
   "source": [
    "import logging\n",
    "import sys\n",
    "from logstash_async.handler import AsynchronousLogstashHandler\n",
    "\n",
    "logstash_host = 'localhost'\n",
    "logstash_port = 5000\n",
    "\n",
    "logger = logging.getLogger('python-logstash-logger')\n",
    "logger.setLevel(logging.DEBUG)\n",
    "\n",
    "logstash_handler = AsynchronousLogstashHandler(\n",
    "    host=logstash_host,\n",
    "    port=logstash_port,\n",
    "    database_path='logstash.db',   # Path to the local SQLite database\n",
    ")\n",
    "\n",
    "logger.addHandler(logstash_handler)\n",
    "\n",
    "# add extra field to logstash message\n",
    "extra = {\n",
    "    'test_string': 'python version: ' + repr(sys.version_info),\n",
    "    'test_boolean': True,\n",
    "    'test_dict': {'a': 1, 'b': 'c'},\n",
    "    'test_float': 1.23,\n",
    "    'test_integer': 123,\n",
    "    'test_list': [1, 2, 3],\n",
    "    'test_list2': ['dog', 'cat', 'fish', 'elephant'],\n",
    "}\n",
    "\n",
    "print(logger.handlers)"
   ]
  },
  {
   "cell_type": "code",
   "execution_count": 3,
   "metadata": {},
   "outputs": [],
   "source": [
    "\n",
    "logger.info('python-logstash: test extra fields', extra=extra)"
   ]
  },
  {
   "cell_type": "code",
   "execution_count": null,
   "metadata": {},
   "outputs": [],
   "source": []
  }
 ],
 "metadata": {
  "kernelspec": {
   "display_name": "venv_elk",
   "language": "python",
   "name": "python3"
  },
  "language_info": {
   "codemirror_mode": {
    "name": "ipython",
    "version": 3
   },
   "file_extension": ".py",
   "mimetype": "text/x-python",
   "name": "python",
   "nbconvert_exporter": "python",
   "pygments_lexer": "ipython3",
   "version": "3.10.6"
  }
 },
 "nbformat": 4,
 "nbformat_minor": 2
}
